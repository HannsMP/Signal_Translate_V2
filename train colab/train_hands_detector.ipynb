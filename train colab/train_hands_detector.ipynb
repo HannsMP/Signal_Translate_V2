{
  "nbformat": 4,
  "nbformat_minor": 0,
  "metadata": {
    "colab": {
      "provenance": [],
      "gpuType": "T4"
    },
    "kernelspec": {
      "name": "python3",
      "display_name": "Python 3"
    },
    "language_info": {
      "name": "python"
    },
    "accelerator": "GPU"
  },
  "cells": [
    {
      "cell_type": "code",
      "execution_count": null,
      "metadata": {
        "id": "vkhO_2BOStS_"
      },
      "outputs": [],
      "source": [
        "import numpy as np\n",
        "import math\n",
        "import json\n",
        "import random\n",
        "import glob"
      ]
    },
    {
      "cell_type": "markdown",
      "source": [
        "\n",
        "\n",
        "```json\n",
        "{\n",
        "    'label_name': 'A',\n",
        "    'left': [\n",
        "        [0, 0, 0],\n",
        "        [0, 0, 0],\n",
        "        [0, 0, 0],\n",
        "        [0, 0, 0],\n",
        "        [0, 0, 0],\n",
        "        [0, 0, 0],\n",
        "        [0, 0, 0],\n",
        "        [0, 0, 0],\n",
        "        [0, 0, 0],\n",
        "        [0, 0, 0],\n",
        "        [0, 0, 0],\n",
        "        [0, 0, 0],\n",
        "        [0, 0, 0],\n",
        "        [0, 0, 0],\n",
        "        [0, 0, 0],\n",
        "        [0, 0, 0],\n",
        "        [0, 0, 0],\n",
        "        [0, 0, 0],\n",
        "        [0, 0, 0],\n",
        "        [0, 0, 0],\n",
        "        [0, 0, 0]\n",
        "    ],\n",
        "    'rigth': [\n",
        "        [0, 0, 0],\n",
        "        [32, -49, -17],\n",
        "        [55, -99, -30],\n",
        "        [57, -139, -42],\n",
        "        [49, -176, -51],\n",
        "        [23, -80, -44],\n",
        "        [99, -68, -70],\n",
        "        [87, -56, -82],\n",
        "        [62, -59, -89],\n",
        "        [11, -42, -48],\n",
        "        [101, -33, -68],\n",
        "        [82, -28, -66],\n",
        "        [57, -30, -69],\n",
        "        [10, -9, -53],\n",
        "        [95, -5, -69],\n",
        "        [76, -2, -59],\n",
        "        [55, -4, -54],\n",
        "        [13, 20, -60],\n",
        "        [81, 19, -68],\n",
        "        [67, 17, -62],\n",
        "        [45, 14, -60]\n",
        "    ],\n",
        "    'absolute': [-3198, -2390, 0]\n",
        "}\n",
        "```\n",
        "\n"
      ],
      "metadata": {
        "id": "RC-TdMpVft5j"
      }
    },
    {
      "cell_type": "code",
      "source": [
        "def readJSON(dir):\n",
        "    with open(dir) as f:\n",
        "        data = json.load(f)\n",
        "    return data"
      ],
      "metadata": {
        "id": "3sSScK0cXoz6"
      },
      "execution_count": null,
      "outputs": []
    },
    {
      "cell_type": "code",
      "source": [
        "def readFiles():\n",
        "    res = {}\n",
        "\n",
        "    for file in glob.glob(f\"data/*.json\"):\n",
        "        label = file.split('/')[1].split('.')[0]\n",
        "        print(f\"label: '{label}', path: '{file}'\")\n",
        "        res[label] = readJSON(file)\n",
        "\n",
        "    return res"
      ],
      "metadata": {
        "id": "VlcTvCpA7ywm"
      },
      "execution_count": null,
      "outputs": []
    },
    {
      "cell_type": "code",
      "source": [
        "dict_labels = readFiles()"
      ],
      "metadata": {
        "colab": {
          "base_uri": "https://localhost:8080/"
        },
        "id": "YRI_jldo7pxn",
        "outputId": "3ced100d-3b4c-46c0-8e1e-ffe89b08b5ff"
      },
      "execution_count": null,
      "outputs": [
        {
          "output_type": "stream",
          "name": "stdout",
          "text": [
            "label: 'K', path: 'data/K.json'\n",
            "label: 'F', path: 'data/F.json'\n",
            "label: 'G', path: 'data/G.json'\n",
            "label: 'E', path: 'data/E.json'\n",
            "label: 'A', path: 'data/A.json'\n",
            "label: 'H', path: 'data/H.json'\n",
            "label: 'D', path: 'data/D.json'\n",
            "label: 'I', path: 'data/I.json'\n",
            "label: 'C', path: 'data/C.json'\n",
            "label: 'B', path: 'data/B.json'\n"
          ]
        }
      ]
    },
    {
      "cell_type": "code",
      "source": [
        "labels_name = list(dict_labels.keys())"
      ],
      "metadata": {
        "id": "cNkmSxHzG9cr"
      },
      "execution_count": null,
      "outputs": []
    },
    {
      "cell_type": "code",
      "source": [
        "def make(test_part=.25):\n",
        "    data_hands = []\n",
        "    label = []\n",
        "\n",
        "    total_data = []\n",
        "\n",
        "    for label_name in labels_name:\n",
        "        total_data = total_data + dict_labels[label_name]\n",
        "\n",
        "    total_data = random.sample(total_data, len(total_data))\n",
        "\n",
        "    for data in total_data:\n",
        "        rigth = np.array(data['rigth']).flatten()\n",
        "        left = np.array(data['left']).flatten()\n",
        "        absolute = np.array(data['absolute'])\n",
        "        label_name = data['label_name']\n",
        "\n",
        "        features = np.concatenate([rigth, left, absolute])\n",
        "        data_hands.append(features)\n",
        "        label.append(label_name)\n",
        "\n",
        "    data_list = {\n",
        "        \"data\": data_hands,\n",
        "        \"label\": label\n",
        "    }\n",
        "\n",
        "    data_hands = np.array(data_hands)\n",
        "    label = np.array(label)\n",
        "\n",
        "    part = math.floor(test_part * len(data_hands))\n",
        "\n",
        "    data_train = {\n",
        "        \"data\": data_hands[part:],\n",
        "        \"label\": label[part:]\n",
        "    }\n",
        "\n",
        "    data_test = {\n",
        "        \"data\": data_hands[:part],\n",
        "        \"label\": label[:part]\n",
        "    }\n",
        "\n",
        "    return data_train, data_test, data_list"
      ],
      "metadata": {
        "id": "ATxhRblGa7ze"
      },
      "execution_count": null,
      "outputs": []
    },
    {
      "cell_type": "code",
      "source": [
        "dataAll, labelAll, listAll = make(test_part=0.25)"
      ],
      "metadata": {
        "id": "uEWz3zzQgYJp"
      },
      "execution_count": null,
      "outputs": []
    },
    {
      "cell_type": "code",
      "source": [
        "train_pairs, train_labels = dataAll[\"data\"], dataAll[\"label\"]\n",
        "test_pairs, test_labels = labelAll[\"data\"], labelAll[\"label\"]"
      ],
      "metadata": {
        "id": "LlcCgbLFwKMi"
      },
      "execution_count": null,
      "outputs": []
    },
    {
      "cell_type": "code",
      "source": [
        "print(train_pairs.shape)\n",
        "print(train_labels.shape)\n",
        "print(test_pairs.shape)\n",
        "print(test_labels.shape)"
      ],
      "metadata": {
        "colab": {
          "base_uri": "https://localhost:8080/"
        },
        "id": "W4qdrrJP0yjk",
        "outputId": "90427d66-07af-4a48-d321-531f2e9c7154"
      },
      "execution_count": null,
      "outputs": [
        {
          "output_type": "stream",
          "name": "stdout",
          "text": [
            "(7500, 129)\n",
            "(7500,)\n",
            "(2500, 129)\n",
            "(2500,)\n"
          ]
        }
      ]
    },
    {
      "cell_type": "code",
      "source": [
        "from __future__ import absolute_import, division, print_function, unicode_literals\n",
        "from tensorflow.keras.utils import to_categorical\n",
        "from sklearn.preprocessing import LabelEncoder\n",
        "\n",
        "import matplotlib.pyplot as plt\n",
        "import tensorflow as tf\n",
        "import os"
      ],
      "metadata": {
        "id": "08RlUMoT-448"
      },
      "execution_count": null,
      "outputs": []
    },
    {
      "cell_type": "code",
      "source": [
        "# uso de gpu por tensorflow\n",
        "gpus = tf.config.experimental.list_physical_devices('GPU')\n",
        "if gpus:\n",
        "    try:\n",
        "        for gpu in gpus:\n",
        "            tf.config.experimental.set_memory_growth(gpu, True)\n",
        "        logical_gpus = tf.config.experimental.list_logical_devices('GPU')\n",
        "        print(len(gpus), \"Physical GPUs,\", len(logical_gpus), \"Logical GPUs\")\n",
        "    except RuntimeError as e:\n",
        "        print(e)"
      ],
      "metadata": {
        "colab": {
          "base_uri": "https://localhost:8080/"
        },
        "id": "YbPa4q_EGTZT",
        "outputId": "9e6ba1cd-a057-4af0-f159-95fd209f10a6"
      },
      "execution_count": null,
      "outputs": [
        {
          "output_type": "stream",
          "name": "stdout",
          "text": [
            "1 Physical GPUs, 1 Logical GPUs\n"
          ]
        }
      ]
    },
    {
      "cell_type": "code",
      "source": [
        "label_encoder = LabelEncoder()\n",
        "train_labels_encoded = label_encoder.fit_transform(train_labels)\n",
        "test_labels_encoded = label_encoder.transform(test_labels)\n",
        "\n",
        "num_classes = len(label_encoder.classes_)\n",
        "train_labels_cat = to_categorical(train_labels_encoded, num_classes)\n",
        "test_labels_cat = to_categorical(test_labels_encoded, num_classes)"
      ],
      "metadata": {
        "id": "6afCJ2pvzKsG"
      },
      "execution_count": null,
      "outputs": []
    },
    {
      "cell_type": "code",
      "source": [
        "BATCH_SIZE = 32\n",
        "\n",
        "train_dataset = tf.data.Dataset.from_tensor_slices((train_pairs, train_labels_cat))\n",
        "train_dataset = train_dataset.shuffle(1024).batch(BATCH_SIZE).prefetch(tf.data.AUTOTUNE)\n",
        "\n",
        "test_dataset = tf.data.Dataset.from_tensor_slices((test_pairs, test_labels_cat))\n",
        "test_dataset = test_dataset.batch(BATCH_SIZE).prefetch(tf.data.AUTOTUNE)"
      ],
      "metadata": {
        "id": "pRkMm3NqwG2q"
      },
      "execution_count": null,
      "outputs": []
    },
    {
      "cell_type": "code",
      "source": [
        "def build_model(input_shape, num_classes):\n",
        "    model = tf.keras.Sequential([\n",
        "        tf.keras.layers.Input(shape=input_shape),\n",
        "        tf.keras.layers.Dense(256, activation='relu'),\n",
        "        tf.keras.layers.Dropout(0.3),\n",
        "        tf.keras.layers.Dense(128, activation='relu'),\n",
        "        tf.keras.layers.Dropout(0.3),\n",
        "        tf.keras.layers.Dense(num_classes, activation='softmax')\n",
        "    ])\n",
        "    return model"
      ],
      "metadata": {
        "id": "FgmjiwfAwb-5"
      },
      "execution_count": null,
      "outputs": []
    },
    {
      "cell_type": "code",
      "source": [
        "model = build_model(input_shape=(129,), num_classes=num_classes)\n",
        "\n",
        "model.compile(optimizer='adam',\n",
        "              loss='categorical_crossentropy',\n",
        "              metrics=['accuracy'])"
      ],
      "metadata": {
        "id": "-0y-uZFFwiNR"
      },
      "execution_count": null,
      "outputs": []
    },
    {
      "cell_type": "code",
      "source": [
        "history = model.fit(\n",
        "    train_dataset,\n",
        "    validation_data=test_dataset,\n",
        "    epochs=30\n",
        ")"
      ],
      "metadata": {
        "colab": {
          "base_uri": "https://localhost:8080/"
        },
        "id": "OBHjA2tEwmB3",
        "outputId": "5b704cfb-7716-4144-ae4d-24e83545beff"
      },
      "execution_count": null,
      "outputs": [
        {
          "output_type": "stream",
          "name": "stdout",
          "text": [
            "Epoch 1/30\n",
            "\u001b[1m235/235\u001b[0m \u001b[32m━━━━━━━━━━━━━━━━━━━━\u001b[0m\u001b[37m\u001b[0m \u001b[1m7s\u001b[0m 15ms/step - accuracy: 0.5578 - loss: 165.3273 - val_accuracy: 0.9980 - val_loss: 0.0080\n",
            "Epoch 2/30\n",
            "\u001b[1m235/235\u001b[0m \u001b[32m━━━━━━━━━━━━━━━━━━━━\u001b[0m\u001b[37m\u001b[0m \u001b[1m1s\u001b[0m 3ms/step - accuracy: 0.9168 - loss: 10.5301 - val_accuracy: 0.9988 - val_loss: 0.0034\n",
            "Epoch 3/30\n",
            "\u001b[1m235/235\u001b[0m \u001b[32m━━━━━━━━━━━━━━━━━━━━\u001b[0m\u001b[37m\u001b[0m \u001b[1m1s\u001b[0m 3ms/step - accuracy: 0.9607 - loss: 2.9796 - val_accuracy: 0.9996 - val_loss: 6.8034e-04\n",
            "Epoch 4/30\n",
            "\u001b[1m235/235\u001b[0m \u001b[32m━━━━━━━━━━━━━━━━━━━━\u001b[0m\u001b[37m\u001b[0m \u001b[1m1s\u001b[0m 3ms/step - accuracy: 0.9780 - loss: 1.1756 - val_accuracy: 0.9984 - val_loss: 0.0025\n",
            "Epoch 5/30\n",
            "\u001b[1m235/235\u001b[0m \u001b[32m━━━━━━━━━━━━━━━━━━━━\u001b[0m\u001b[37m\u001b[0m \u001b[1m1s\u001b[0m 4ms/step - accuracy: 0.9817 - loss: 0.6597 - val_accuracy: 1.0000 - val_loss: 1.1187e-04\n",
            "Epoch 6/30\n",
            "\u001b[1m235/235\u001b[0m \u001b[32m━━━━━━━━━━━━━━━━━━━━\u001b[0m\u001b[37m\u001b[0m \u001b[1m1s\u001b[0m 3ms/step - accuracy: 0.9864 - loss: 0.7332 - val_accuracy: 1.0000 - val_loss: 9.1836e-05\n",
            "Epoch 7/30\n",
            "\u001b[1m235/235\u001b[0m \u001b[32m━━━━━━━━━━━━━━━━━━━━\u001b[0m\u001b[37m\u001b[0m \u001b[1m1s\u001b[0m 3ms/step - accuracy: 0.9856 - loss: 0.4097 - val_accuracy: 1.0000 - val_loss: 1.9831e-04\n",
            "Epoch 8/30\n",
            "\u001b[1m235/235\u001b[0m \u001b[32m━━━━━━━━━━━━━━━━━━━━\u001b[0m\u001b[37m\u001b[0m \u001b[1m1s\u001b[0m 3ms/step - accuracy: 0.9862 - loss: 0.7456 - val_accuracy: 0.9996 - val_loss: 5.1948e-04\n",
            "Epoch 9/30\n",
            "\u001b[1m235/235\u001b[0m \u001b[32m━━━━━━━━━━━━━━━━━━━━\u001b[0m\u001b[37m\u001b[0m \u001b[1m1s\u001b[0m 3ms/step - accuracy: 0.9914 - loss: 0.1384 - val_accuracy: 1.0000 - val_loss: 2.4700e-08\n",
            "Epoch 10/30\n",
            "\u001b[1m235/235\u001b[0m \u001b[32m━━━━━━━━━━━━━━━━━━━━\u001b[0m\u001b[37m\u001b[0m \u001b[1m1s\u001b[0m 3ms/step - accuracy: 0.9900 - loss: 0.1135 - val_accuracy: 1.0000 - val_loss: 1.7232e-07\n",
            "Epoch 11/30\n",
            "\u001b[1m235/235\u001b[0m \u001b[32m━━━━━━━━━━━━━━━━━━━━\u001b[0m\u001b[37m\u001b[0m \u001b[1m1s\u001b[0m 3ms/step - accuracy: 0.9925 - loss: 0.1761 - val_accuracy: 1.0000 - val_loss: 1.0922e-06\n",
            "Epoch 12/30\n",
            "\u001b[1m235/235\u001b[0m \u001b[32m━━━━━━━━━━━━━━━━━━━━\u001b[0m\u001b[37m\u001b[0m \u001b[1m1s\u001b[0m 3ms/step - accuracy: 0.9923 - loss: 0.2536 - val_accuracy: 0.9992 - val_loss: 0.0013\n",
            "Epoch 13/30\n",
            "\u001b[1m235/235\u001b[0m \u001b[32m━━━━━━━━━━━━━━━━━━━━\u001b[0m\u001b[37m\u001b[0m \u001b[1m1s\u001b[0m 3ms/step - accuracy: 0.9942 - loss: 0.1483 - val_accuracy: 1.0000 - val_loss: 3.9461e-07\n",
            "Epoch 14/30\n",
            "\u001b[1m235/235\u001b[0m \u001b[32m━━━━━━━━━━━━━━━━━━━━\u001b[0m\u001b[37m\u001b[0m \u001b[1m1s\u001b[0m 4ms/step - accuracy: 0.9915 - loss: 0.4896 - val_accuracy: 0.9988 - val_loss: 0.0095\n",
            "Epoch 15/30\n",
            "\u001b[1m235/235\u001b[0m \u001b[32m━━━━━━━━━━━━━━━━━━━━\u001b[0m\u001b[37m\u001b[0m \u001b[1m1s\u001b[0m 4ms/step - accuracy: 0.9939 - loss: 0.0649 - val_accuracy: 1.0000 - val_loss: 4.4824e-07\n",
            "Epoch 16/30\n",
            "\u001b[1m235/235\u001b[0m \u001b[32m━━━━━━━━━━━━━━━━━━━━\u001b[0m\u001b[37m\u001b[0m \u001b[1m1s\u001b[0m 3ms/step - accuracy: 0.9947 - loss: 0.1078 - val_accuracy: 1.0000 - val_loss: 2.7352e-07\n",
            "Epoch 17/30\n",
            "\u001b[1m235/235\u001b[0m \u001b[32m━━━━━━━━━━━━━━━━━━━━\u001b[0m\u001b[37m\u001b[0m \u001b[1m1s\u001b[0m 3ms/step - accuracy: 0.9929 - loss: 0.1843 - val_accuracy: 1.0000 - val_loss: 2.8420e-06\n",
            "Epoch 18/30\n",
            "\u001b[1m235/235\u001b[0m \u001b[32m━━━━━━━━━━━━━━━━━━━━\u001b[0m\u001b[37m\u001b[0m \u001b[1m1s\u001b[0m 3ms/step - accuracy: 0.9933 - loss: 0.1043 - val_accuracy: 1.0000 - val_loss: 4.0419e-06\n",
            "Epoch 19/30\n",
            "\u001b[1m235/235\u001b[0m \u001b[32m━━━━━━━━━━━━━━━━━━━━\u001b[0m\u001b[37m\u001b[0m \u001b[1m1s\u001b[0m 3ms/step - accuracy: 0.9953 - loss: 0.1096 - val_accuracy: 1.0000 - val_loss: 2.4986e-08\n",
            "Epoch 20/30\n",
            "\u001b[1m235/235\u001b[0m \u001b[32m━━━━━━━━━━━━━━━━━━━━\u001b[0m\u001b[37m\u001b[0m \u001b[1m1s\u001b[0m 3ms/step - accuracy: 0.9960 - loss: 0.0655 - val_accuracy: 0.9992 - val_loss: 0.0015\n",
            "Epoch 21/30\n",
            "\u001b[1m235/235\u001b[0m \u001b[32m━━━━━━━━━━━━━━━━━━━━\u001b[0m\u001b[37m\u001b[0m \u001b[1m1s\u001b[0m 3ms/step - accuracy: 0.9840 - loss: 1.7941 - val_accuracy: 0.9964 - val_loss: 0.0301\n",
            "Epoch 22/30\n",
            "\u001b[1m235/235\u001b[0m \u001b[32m━━━━━━━━━━━━━━━━━━━━\u001b[0m\u001b[37m\u001b[0m \u001b[1m1s\u001b[0m 3ms/step - accuracy: 0.9895 - loss: 0.5823 - val_accuracy: 1.0000 - val_loss: 2.1649e-05\n",
            "Epoch 23/30\n",
            "\u001b[1m235/235\u001b[0m \u001b[32m━━━━━━━━━━━━━━━━━━━━\u001b[0m\u001b[37m\u001b[0m \u001b[1m1s\u001b[0m 3ms/step - accuracy: 0.9924 - loss: 0.1059 - val_accuracy: 1.0000 - val_loss: 6.2655e-05\n",
            "Epoch 24/30\n",
            "\u001b[1m235/235\u001b[0m \u001b[32m━━━━━━━━━━━━━━━━━━━━\u001b[0m\u001b[37m\u001b[0m \u001b[1m1s\u001b[0m 3ms/step - accuracy: 0.9939 - loss: 0.0541 - val_accuracy: 1.0000 - val_loss: 1.4305e-10\n",
            "Epoch 25/30\n",
            "\u001b[1m235/235\u001b[0m \u001b[32m━━━━━━━━━━━━━━━━━━━━\u001b[0m\u001b[37m\u001b[0m \u001b[1m1s\u001b[0m 3ms/step - accuracy: 0.9972 - loss: 0.0275 - val_accuracy: 1.0000 - val_loss: 1.3494e-08\n",
            "Epoch 26/30\n",
            "\u001b[1m235/235\u001b[0m \u001b[32m━━━━━━━━━━━━━━━━━━━━\u001b[0m\u001b[37m\u001b[0m \u001b[1m1s\u001b[0m 3ms/step - accuracy: 0.9988 - loss: 0.0088 - val_accuracy: 1.0000 - val_loss: 1.8787e-06\n",
            "Epoch 27/30\n",
            "\u001b[1m235/235\u001b[0m \u001b[32m━━━━━━━━━━━━━━━━━━━━\u001b[0m\u001b[37m\u001b[0m \u001b[1m1s\u001b[0m 3ms/step - accuracy: 0.9963 - loss: 0.0593 - val_accuracy: 0.9992 - val_loss: 0.0064\n",
            "Epoch 28/30\n",
            "\u001b[1m235/235\u001b[0m \u001b[32m━━━━━━━━━━━━━━━━━━━━\u001b[0m\u001b[37m\u001b[0m \u001b[1m1s\u001b[0m 4ms/step - accuracy: 0.9942 - loss: 0.2508 - val_accuracy: 1.0000 - val_loss: 4.7683e-09\n",
            "Epoch 29/30\n",
            "\u001b[1m235/235\u001b[0m \u001b[32m━━━━━━━━━━━━━━━━━━━━\u001b[0m\u001b[37m\u001b[0m \u001b[1m1s\u001b[0m 4ms/step - accuracy: 0.9888 - loss: 0.6127 - val_accuracy: 1.0000 - val_loss: 9.3073e-08\n",
            "Epoch 30/30\n",
            "\u001b[1m235/235\u001b[0m \u001b[32m━━━━━━━━━━━━━━━━━━━━\u001b[0m\u001b[37m\u001b[0m \u001b[1m1s\u001b[0m 3ms/step - accuracy: 0.9967 - loss: 0.0367 - val_accuracy: 1.0000 - val_loss: 0.0000e+00\n"
          ]
        }
      ]
    },
    {
      "cell_type": "code",
      "source": [
        "plt.figure()\n",
        "plt.plot(history.history['loss'], label='Entrenamiento')\n",
        "plt.plot(history.history['val_loss'], label='Validación')\n",
        "plt.xlabel('Época')\n",
        "plt.ylabel('Pérdida')\n",
        "plt.title('Curva de pérdida')\n",
        "plt.legend()\n",
        "plt.grid(True)\n",
        "plt.show()"
      ],
      "metadata": {
        "colab": {
          "base_uri": "https://localhost:8080/",
          "height": 474
        },
        "id": "wDFpssGSwpAZ",
        "outputId": "3fa4d2cb-0fb8-4c5a-8126-d62906f1632a"
      },
      "execution_count": null,
      "outputs": [
        {
          "output_type": "display_data",
          "data": {
            "text/plain": [
              "<Figure size 640x480 with 1 Axes>"
            ],
            "image/png": "[encoded data removed]"
          },
          "metadata": {}
        }
      ]
    },
    {
      "cell_type": "code",
      "source": [
        "from sklearn.metrics import classification_report, confusion_matrix\n",
        "\n",
        "predictions = model.predict(test_pairs)\n",
        "y_pred = np.argmax(predictions, axis=1)\n",
        "y_true = np.argmax(test_labels_cat, axis=1)\n",
        "\n",
        "print(\"\\nReporte de clasificación:\")\n",
        "print(classification_report(y_true, y_pred, target_names=label_encoder.classes_))\n",
        "\n",
        "print(\"Matriz de confusión:\")\n",
        "print(confusion_matrix(y_true, y_pred))"
      ],
      "metadata": {
        "colab": {
          "base_uri": "https://localhost:8080/"
        },
        "id": "rxg1N8uV_c9T",
        "outputId": "4df4f05d-f263-44a3-9a87-9b4e934686be"
      },
      "execution_count": null,
      "outputs": [
        {
          "output_type": "stream",
          "name": "stdout",
          "text": [
            "\u001b[1m79/79\u001b[0m \u001b[32m━━━━━━━━━━━━━━━━━━━━\u001b[0m\u001b[37m\u001b[0m \u001b[1m0s\u001b[0m 3ms/step\n",
            "\n",
            "Reporte de clasificación:\n",
            "              precision    recall  f1-score   support\n",
            "\n",
            "           A       1.00      1.00      1.00       251\n",
            "           B       1.00      1.00      1.00       245\n",
            "           C       1.00      1.00      1.00       238\n",
            "           D       1.00      1.00      1.00       245\n",
            "           E       1.00      1.00      1.00       268\n",
            "           F       1.00      1.00      1.00       285\n",
            "           G       1.00      1.00      1.00       247\n",
            "           H       1.00      1.00      1.00       239\n",
            "           I       1.00      1.00      1.00       227\n",
            "           K       1.00      1.00      1.00       255\n",
            "\n",
            "    accuracy                           1.00      2500\n",
            "   macro avg       1.00      1.00      1.00      2500\n",
            "weighted avg       1.00      1.00      1.00      2500\n",
            "\n",
            "Matriz de confusión:\n",
            "[[251   0   0   0   0   0   0   0   0   0]\n",
            " [  0 245   0   0   0   0   0   0   0   0]\n",
            " [  0   0 238   0   0   0   0   0   0   0]\n",
            " [  0   0   0 245   0   0   0   0   0   0]\n",
            " [  0   0   0   0 268   0   0   0   0   0]\n",
            " [  0   0   0   0   0 285   0   0   0   0]\n",
            " [  0   0   0   0   0   0 247   0   0   0]\n",
            " [  0   0   0   0   0   0   0 239   0   0]\n",
            " [  0   0   0   0   0   0   0   0 227   0]\n",
            " [  0   0   0   0   0   0   0   0   0 255]]\n"
          ]
        }
      ]
    },
    {
      "cell_type": "code",
      "source": [
        "model.save('modelo_clasificador_manos.h5')"
      ],
      "metadata": {
        "colab": {
          "base_uri": "https://localhost:8080/"
        },
        "id": "4Wa5N9FyBNtS",
        "outputId": "22837d88-b839-4368-9bd0-6c33efc4a8d1"
      },
      "execution_count": null,
      "outputs": [
        {
          "output_type": "stream",
          "name": "stderr",
          "text": [
            "WARNING:absl:You are saving your model as an HDF5 file via `model.save()` or `keras.saving.save_model(model)`. This file format is considered legacy. We recommend using instead the native Keras format, e.g. `model.save('my_model.keras')` or `keras.saving.save_model(model, 'my_model.keras')`. \n"
          ]
        }
      ]
    },
    {
      "cell_type": "code",
      "source": [
        "model = tf.keras.models.load_model('modelo_clasificador_manos.h5')"
      ],
      "metadata": {
        "id": "tDOrDT61AuYk"
      },
      "execution_count": null,
      "outputs": []
    },
    {
      "cell_type": "code",
      "source": [
        "def predict_random():\n",
        "    index = random.randint(0, len(listAll[\"data\"]) - 1)\n",
        "\n",
        "    # 2. Extraer el dato y el label reales\n",
        "    input_data = np.array([listAll[\"data\"][index]])  # Asegúrate de que sea un batch (1, n)\n",
        "    true_label = listAll[\"label\"][index]\n",
        "\n",
        "    # 3. Predecir con el modelo\n",
        "    prediction = model.predict(input_data)\n",
        "    predicted_index = np.argmax(prediction)\n",
        "    predicted_label = label_encoder.inverse_transform([predicted_index])[0]\n",
        "\n",
        "    # 4. Mostrar resultados\n",
        "    print(f\"Índice de muestra: {index}\")\n",
        "    print(f\"Etiqueta real     : {true_label}\")\n",
        "    print(f\"Etiqueta predicha : {predicted_label}\")"
      ],
      "metadata": {
        "id": "iXPNHWcqJoVR"
      },
      "execution_count": null,
      "outputs": []
    },
    {
      "cell_type": "code",
      "source": [
        "predict_random()"
      ],
      "metadata": {
        "colab": {
          "base_uri": "https://localhost:8080/"
        },
        "id": "miIB5rSnLUqn",
        "outputId": "aeb3aa1a-7d70-4419-d8a9-81c193331d72"
      },
      "execution_count": null,
      "outputs": [
        {
          "output_type": "stream",
          "name": "stdout",
          "text": [
            "\u001b[1m1/1\u001b[0m \u001b[32m━━━━━━━━━━━━━━━━━━━━\u001b[0m\u001b[37m\u001b[0m \u001b[1m0s\u001b[0m 253ms/step\n",
            "Índice de muestra: 8002\n",
            "Etiqueta real     : I\n",
            "Etiqueta predicha : I\n"
          ]
        }
      ]
    },
    {
      "cell_type": "code",
      "source": [
        "import pickle\n",
        "\n",
        "# Guardar el LabelEncoder\n",
        "with open('label_encoder.pkl', 'wb') as f:\n",
        "    pickle.dump(label_encoder, f)"
      ],
      "metadata": {
        "id": "K9dBOGrE6Iwl"
      },
      "execution_count": null,
      "outputs": []
    }
  ]
}